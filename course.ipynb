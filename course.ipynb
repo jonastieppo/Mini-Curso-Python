{
 "cells": [
  {
   "cell_type": "markdown",
   "metadata": {},
   "source": [
    "# Introdução (bem breve)  ao Python\n",
    "\n",
    "## Sequência de Fibonacci\n",
    "\n",
    "A sequência de Fibonacci precisa de 2 elementos iniciais, e o terceiro elemento é dado pela soma dos dois primeiros. Logo, um Fibonacci para 8 elementos seria algo do tipo:\n",
    "\n",
    "1 2 3 5 8 13 21 34\n",
    "\n",
    "Diga qual será o milionésimo termo do fibonacci, com o primeiro termo sendo 1, e o segundo sendo 3."
   ]
  },
  {
   "cell_type": "code",
   "execution_count": null,
   "metadata": {},
   "outputs": [],
   "source": [
    "import time \n",
    "print(\"Implementação do Fibonacci:\")\n",
    "start = time.time()\n",
    "'''\n",
    "Iniciar a implementação aqui:\n",
    "'''\n",
    "\n",
    "def fibonnacci(n,a,b):\n",
    "    '''\n",
    "    Retorna o enésimo número de fibonacci\n",
    "    '''\n",
    "    \n",
    "    return\n",
    "\n",
    "n = 6000\n",
    "a = 1 \n",
    "b = 3\n",
    "resultado = fibonnacci(n,a,b)\n",
    "end = time.time()\n",
    "print(\"Tempo de execução: \", end - start)\n",
    "\n",
    "print(f\"O {n}é-simo termo na sequência de Fibonacci, iniciando com {a} e {b} é: {resultado}\")"
   ]
  },
  {
   "cell_type": "code",
   "execution_count": null,
   "metadata": {},
   "outputs": [],
   "source": [
    "'''\n",
    "Implementação Performática de Fibonnaci (Fórmula de Lucas)\n",
    "'''\n",
    "from fiboRecursive import lucasNumber\n",
    "import time\n",
    "\n",
    "n = 20000\n",
    "a = 1 \n",
    "b = 3\n",
    "print(\"Implementação do Fibonacci (Fórmula de Lucas):\")\n",
    "start = time.time()\n",
    "lucasNumber(n)\n",
    "end = end = time.time()\n",
    "print(\"Tempo de execução: \", end - start)\n",
    "\n",
    "print(f\"O {n}é-simo termo na sequência de Fibonacci, iniciando com {a} e {b} é: {resultado}\")"
   ]
  },
  {
   "cell_type": "markdown",
   "metadata": {},
   "source": []
  },
  {
   "cell_type": "markdown",
   "metadata": {},
   "source": [
    "Nota-se como a fórmula de Lucas, dada por\n",
    "\n",
    "$L(n) = (\\dfrac{1+\\sqrt{5}}{2})^n + (\\dfrac{1-\\sqrt{5}}{2})^n$\n",
    "\n",
    "no mínimo 30 vezes mais performática.\n",
    "\n",
    "No entanto, é impraticável procurar a solução mais performática para cada problema encontrado. Logo, utilizar bibliotecas já exaustivamente elaboradas é uma boa prática, pois garante a melhor solução, e nos permite concentrarmos na solução de problemas específicos."
   ]
  },
  {
   "cell_type": "markdown",
   "metadata": {},
   "source": [
    "# Exemplo 1: Curva sem deslocamento Inicial \n"
   ]
  },
  {
   "cell_type": "markdown",
   "metadata": {},
   "source": [
    "## Importação dos dados de ensaio\n",
    "\n",
    "O primeiro passo para importar os dados é utilizar o biblioteca Pandas, do Python. Humildemente, disponibilizo uma biblioteca, baseada no Pandas, para auxiliar nessse processo:\n"
   ]
  },
  {
   "cell_type": "code",
   "execution_count": null,
   "metadata": {},
   "outputs": [],
   "source": [
    "import pandas as pd\n",
    "from experimentalTreatingIsiPol.main import ReadExperimentalData\n",
    "\n"
   ]
  },
  {
   "cell_type": "markdown",
   "metadata": {},
   "source": [
    "# Exemplo 2 : Curva com deslocamento Inicial"
   ]
  },
  {
   "cell_type": "markdown",
   "metadata": {},
   "source": [
    "# Exemplo 3 : Curva sem deslocamento inicial e dados primários"
   ]
  },
  {
   "cell_type": "markdown",
   "metadata": {},
   "source": [
    "# Exemplo 4 : Curva com deslocamento inicial e dados primários"
   ]
  },
  {
   "cell_type": "markdown",
   "metadata": {},
   "source": [
    "# Exemplo 5 : Família de Curvas com deslocamento inicial e dados primários"
   ]
  },
  {
   "cell_type": "markdown",
   "metadata": {},
   "source": [
    "# Exemplo 6 : Família de Curvas com dados secundários"
   ]
  }
 ],
 "metadata": {
  "kernelspec": {
   "display_name": "Python 3",
   "language": "python",
   "name": "python3"
  },
  "language_info": {
   "codemirror_mode": {
    "name": "ipython",
    "version": 3
   },
   "file_extension": ".py",
   "mimetype": "text/x-python",
   "name": "python",
   "nbconvert_exporter": "python",
   "pygments_lexer": "ipython3",
   "version": "3.12.1"
  }
 },
 "nbformat": 4,
 "nbformat_minor": 2
}
